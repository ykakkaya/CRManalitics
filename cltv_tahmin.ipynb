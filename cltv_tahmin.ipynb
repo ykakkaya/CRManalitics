{
 "cells": [
  {
   "cell_type": "code",
   "execution_count": 2,
   "metadata": {},
   "outputs": [],
   "source": [
    "import datetime as dt\n",
    "import pandas as pd\n",
    "import matplotlib.pyplot as plt\n",
    "from lifetimes import BetaGeoFitter\n",
    "from lifetimes import GammaGammaFitter\n"
   ]
  },
  {
   "cell_type": "markdown",
   "metadata": {},
   "source": [
    "# Görev 1:  Veriyi Hazırlama\n",
    "### Adım1:   flo_data_20K.csv verisiniokuyunuz"
   ]
  },
  {
   "cell_type": "code",
   "execution_count": 3,
   "metadata": {},
   "outputs": [
    {
     "data": {
      "text/html": [
       "<div>\n",
       "<style scoped>\n",
       "    .dataframe tbody tr th:only-of-type {\n",
       "        vertical-align: middle;\n",
       "    }\n",
       "\n",
       "    .dataframe tbody tr th {\n",
       "        vertical-align: top;\n",
       "    }\n",
       "\n",
       "    .dataframe thead th {\n",
       "        text-align: right;\n",
       "    }\n",
       "</style>\n",
       "<table border=\"1\" class=\"dataframe\">\n",
       "  <thead>\n",
       "    <tr style=\"text-align: right;\">\n",
       "      <th></th>\n",
       "      <th>master_id</th>\n",
       "      <th>order_channel</th>\n",
       "      <th>last_order_channel</th>\n",
       "      <th>first_order_date</th>\n",
       "      <th>last_order_date</th>\n",
       "      <th>last_order_date_online</th>\n",
       "      <th>last_order_date_offline</th>\n",
       "      <th>order_num_total_ever_online</th>\n",
       "      <th>order_num_total_ever_offline</th>\n",
       "      <th>customer_value_total_ever_offline</th>\n",
       "      <th>customer_value_total_ever_online</th>\n",
       "      <th>interested_in_categories_12</th>\n",
       "    </tr>\n",
       "  </thead>\n",
       "  <tbody>\n",
       "    <tr>\n",
       "      <th>0</th>\n",
       "      <td>cc294636-19f0-11eb-8d74-000d3a38a36f</td>\n",
       "      <td>Android App</td>\n",
       "      <td>Offline</td>\n",
       "      <td>2020-10-30</td>\n",
       "      <td>2021-02-26</td>\n",
       "      <td>2021-02-21</td>\n",
       "      <td>2021-02-26</td>\n",
       "      <td>4.0</td>\n",
       "      <td>1.0</td>\n",
       "      <td>139.99</td>\n",
       "      <td>799.38</td>\n",
       "      <td>[KADIN]</td>\n",
       "    </tr>\n",
       "    <tr>\n",
       "      <th>1</th>\n",
       "      <td>f431bd5a-ab7b-11e9-a2fc-000d3a38a36f</td>\n",
       "      <td>Android App</td>\n",
       "      <td>Mobile</td>\n",
       "      <td>2017-02-08</td>\n",
       "      <td>2021-02-16</td>\n",
       "      <td>2021-02-16</td>\n",
       "      <td>2020-01-10</td>\n",
       "      <td>19.0</td>\n",
       "      <td>2.0</td>\n",
       "      <td>159.97</td>\n",
       "      <td>1853.58</td>\n",
       "      <td>[ERKEK, COCUK, KADIN, AKTIFSPOR]</td>\n",
       "    </tr>\n",
       "    <tr>\n",
       "      <th>2</th>\n",
       "      <td>69b69676-1a40-11ea-941b-000d3a38a36f</td>\n",
       "      <td>Android App</td>\n",
       "      <td>Android App</td>\n",
       "      <td>2019-11-27</td>\n",
       "      <td>2020-11-27</td>\n",
       "      <td>2020-11-27</td>\n",
       "      <td>2019-12-01</td>\n",
       "      <td>3.0</td>\n",
       "      <td>2.0</td>\n",
       "      <td>189.97</td>\n",
       "      <td>395.35</td>\n",
       "      <td>[ERKEK, KADIN]</td>\n",
       "    </tr>\n",
       "    <tr>\n",
       "      <th>3</th>\n",
       "      <td>1854e56c-491f-11eb-806e-000d3a38a36f</td>\n",
       "      <td>Android App</td>\n",
       "      <td>Android App</td>\n",
       "      <td>2021-01-06</td>\n",
       "      <td>2021-01-17</td>\n",
       "      <td>2021-01-17</td>\n",
       "      <td>2021-01-06</td>\n",
       "      <td>1.0</td>\n",
       "      <td>1.0</td>\n",
       "      <td>39.99</td>\n",
       "      <td>81.98</td>\n",
       "      <td>[AKTIFCOCUK, COCUK]</td>\n",
       "    </tr>\n",
       "    <tr>\n",
       "      <th>4</th>\n",
       "      <td>d6ea1074-f1f5-11e9-9346-000d3a38a36f</td>\n",
       "      <td>Desktop</td>\n",
       "      <td>Desktop</td>\n",
       "      <td>2019-08-03</td>\n",
       "      <td>2021-03-07</td>\n",
       "      <td>2021-03-07</td>\n",
       "      <td>2019-08-03</td>\n",
       "      <td>1.0</td>\n",
       "      <td>1.0</td>\n",
       "      <td>49.99</td>\n",
       "      <td>159.99</td>\n",
       "      <td>[AKTIFSPOR]</td>\n",
       "    </tr>\n",
       "  </tbody>\n",
       "</table>\n",
       "</div>"
      ],
      "text/plain": [
       "                              master_id order_channel last_order_channel  \\\n",
       "0  cc294636-19f0-11eb-8d74-000d3a38a36f   Android App            Offline   \n",
       "1  f431bd5a-ab7b-11e9-a2fc-000d3a38a36f   Android App             Mobile   \n",
       "2  69b69676-1a40-11ea-941b-000d3a38a36f   Android App        Android App   \n",
       "3  1854e56c-491f-11eb-806e-000d3a38a36f   Android App        Android App   \n",
       "4  d6ea1074-f1f5-11e9-9346-000d3a38a36f       Desktop            Desktop   \n",
       "\n",
       "  first_order_date last_order_date last_order_date_online  \\\n",
       "0       2020-10-30      2021-02-26             2021-02-21   \n",
       "1       2017-02-08      2021-02-16             2021-02-16   \n",
       "2       2019-11-27      2020-11-27             2020-11-27   \n",
       "3       2021-01-06      2021-01-17             2021-01-17   \n",
       "4       2019-08-03      2021-03-07             2021-03-07   \n",
       "\n",
       "  last_order_date_offline  order_num_total_ever_online  \\\n",
       "0              2021-02-26                          4.0   \n",
       "1              2020-01-10                         19.0   \n",
       "2              2019-12-01                          3.0   \n",
       "3              2021-01-06                          1.0   \n",
       "4              2019-08-03                          1.0   \n",
       "\n",
       "   order_num_total_ever_offline  customer_value_total_ever_offline  \\\n",
       "0                           1.0                             139.99   \n",
       "1                           2.0                             159.97   \n",
       "2                           2.0                             189.97   \n",
       "3                           1.0                              39.99   \n",
       "4                           1.0                              49.99   \n",
       "\n",
       "   customer_value_total_ever_online       interested_in_categories_12  \n",
       "0                            799.38                           [KADIN]  \n",
       "1                           1853.58  [ERKEK, COCUK, KADIN, AKTIFSPOR]  \n",
       "2                            395.35                    [ERKEK, KADIN]  \n",
       "3                             81.98               [AKTIFCOCUK, COCUK]  \n",
       "4                            159.99                       [AKTIFSPOR]  "
      ]
     },
     "execution_count": 3,
     "metadata": {},
     "output_type": "execute_result"
    }
   ],
   "source": [
    "df=pd.read_csv(\"flo_data_20k.csv\")\n",
    "df.head()"
   ]
  },
  {
   "cell_type": "markdown",
   "metadata": {},
   "source": [
    "### Adım2:Aykırı değerleri baskılamak için gerekli olan outlier_thresholds ve replace_with_thresholds fonksiyonlarını tanımlayınız. Not: cltv hesaplanırken frequency değerleri integer olması gerekmektedir.Bu nedenle alt ve üst limitlerin round() ile yuvarlayınız ."
   ]
  },
  {
   "cell_type": "code",
   "execution_count": 4,
   "metadata": {},
   "outputs": [],
   "source": [
    "def outlier_thresholds(dataframe, variable):\n",
    "    quartile1 = dataframe[variable].quantile(0.01)\n",
    "    quartile3 = dataframe[variable].quantile(0.99)\n",
    "    interquantile_range = quartile3 - quartile1\n",
    "    up_limit = (quartile3 + 1.5 * interquantile_range).round()\n",
    "    low_limit = (quartile1 - 1.5 * interquantile_range).round()\n",
    "    return low_limit, up_limit\n",
    "\n",
    "\n",
    "def replace_with_thresholds(dataframe, variable):\n",
    "    low_limit, up_limit = (outlier_thresholds(dataframe, variable))\n",
    "    dataframe.loc[(dataframe[variable] < low_limit), variable] = low_limit \n",
    "    dataframe.loc[(dataframe[variable] > up_limit), variable] = up_limit"
   ]
  },
  {
   "cell_type": "markdown",
   "metadata": {},
   "source": [
    "### Adım3:  \"order_num_total_ever_online\", \"order_num_total_ever_offline\", \"customer_value_total_ever_offline\", \"customer_value_total_ever_online\" değişkenlerinin aykırı değerleri varsa baskılayanız."
   ]
  },
  {
   "cell_type": "code",
   "execution_count": 5,
   "metadata": {},
   "outputs": [
    {
     "name": "stdout",
     "output_type": "stream",
     "text": [
      "<class 'pandas.core.frame.DataFrame'>\n",
      "RangeIndex: 19945 entries, 0 to 19944\n",
      "Data columns (total 12 columns):\n",
      " #   Column                             Non-Null Count  Dtype  \n",
      "---  ------                             --------------  -----  \n",
      " 0   master_id                          19945 non-null  object \n",
      " 1   order_channel                      19945 non-null  object \n",
      " 2   last_order_channel                 19945 non-null  object \n",
      " 3   first_order_date                   19945 non-null  object \n",
      " 4   last_order_date                    19945 non-null  object \n",
      " 5   last_order_date_online             19945 non-null  object \n",
      " 6   last_order_date_offline            19945 non-null  object \n",
      " 7   order_num_total_ever_online        19945 non-null  float64\n",
      " 8   order_num_total_ever_offline       19945 non-null  float64\n",
      " 9   customer_value_total_ever_offline  19945 non-null  float64\n",
      " 10  customer_value_total_ever_online   19945 non-null  float64\n",
      " 11  interested_in_categories_12        19945 non-null  object \n",
      "dtypes: float64(4), object(8)\n",
      "memory usage: 1.8+ MB\n"
     ]
    }
   ],
   "source": [
    "df.info()"
   ]
  },
  {
   "cell_type": "code",
   "execution_count": 6,
   "metadata": {},
   "outputs": [
    {
     "data": {
      "text/html": [
       "<div>\n",
       "<style scoped>\n",
       "    .dataframe tbody tr th:only-of-type {\n",
       "        vertical-align: middle;\n",
       "    }\n",
       "\n",
       "    .dataframe tbody tr th {\n",
       "        vertical-align: top;\n",
       "    }\n",
       "\n",
       "    .dataframe thead th {\n",
       "        text-align: right;\n",
       "    }\n",
       "</style>\n",
       "<table border=\"1\" class=\"dataframe\">\n",
       "  <thead>\n",
       "    <tr style=\"text-align: right;\">\n",
       "      <th></th>\n",
       "      <th>count</th>\n",
       "      <th>mean</th>\n",
       "      <th>std</th>\n",
       "      <th>min</th>\n",
       "      <th>25%</th>\n",
       "      <th>50%</th>\n",
       "      <th>75%</th>\n",
       "      <th>max</th>\n",
       "    </tr>\n",
       "  </thead>\n",
       "  <tbody>\n",
       "    <tr>\n",
       "      <th>order_num_total_ever_online</th>\n",
       "      <td>19945.0</td>\n",
       "      <td>3.110855</td>\n",
       "      <td>4.225647</td>\n",
       "      <td>1.00</td>\n",
       "      <td>1.00</td>\n",
       "      <td>2.00</td>\n",
       "      <td>4.00</td>\n",
       "      <td>200.00</td>\n",
       "    </tr>\n",
       "    <tr>\n",
       "      <th>order_num_total_ever_offline</th>\n",
       "      <td>19945.0</td>\n",
       "      <td>1.913913</td>\n",
       "      <td>2.062880</td>\n",
       "      <td>1.00</td>\n",
       "      <td>1.00</td>\n",
       "      <td>1.00</td>\n",
       "      <td>2.00</td>\n",
       "      <td>109.00</td>\n",
       "    </tr>\n",
       "    <tr>\n",
       "      <th>customer_value_total_ever_offline</th>\n",
       "      <td>19945.0</td>\n",
       "      <td>253.922597</td>\n",
       "      <td>301.532853</td>\n",
       "      <td>10.00</td>\n",
       "      <td>99.99</td>\n",
       "      <td>179.98</td>\n",
       "      <td>319.97</td>\n",
       "      <td>18119.14</td>\n",
       "    </tr>\n",
       "    <tr>\n",
       "      <th>customer_value_total_ever_online</th>\n",
       "      <td>19945.0</td>\n",
       "      <td>497.321690</td>\n",
       "      <td>832.601886</td>\n",
       "      <td>12.99</td>\n",
       "      <td>149.98</td>\n",
       "      <td>286.46</td>\n",
       "      <td>578.44</td>\n",
       "      <td>45220.13</td>\n",
       "    </tr>\n",
       "  </tbody>\n",
       "</table>\n",
       "</div>"
      ],
      "text/plain": [
       "                                     count        mean         std    min  \\\n",
       "order_num_total_ever_online        19945.0    3.110855    4.225647   1.00   \n",
       "order_num_total_ever_offline       19945.0    1.913913    2.062880   1.00   \n",
       "customer_value_total_ever_offline  19945.0  253.922597  301.532853  10.00   \n",
       "customer_value_total_ever_online   19945.0  497.321690  832.601886  12.99   \n",
       "\n",
       "                                      25%     50%     75%       max  \n",
       "order_num_total_ever_online          1.00    2.00    4.00    200.00  \n",
       "order_num_total_ever_offline         1.00    1.00    2.00    109.00  \n",
       "customer_value_total_ever_offline   99.99  179.98  319.97  18119.14  \n",
       "customer_value_total_ever_online   149.98  286.46  578.44  45220.13  "
      ]
     },
     "execution_count": 6,
     "metadata": {},
     "output_type": "execute_result"
    }
   ],
   "source": [
    "df.describe().T"
   ]
  },
  {
   "cell_type": "code",
   "execution_count": 7,
   "metadata": {},
   "outputs": [],
   "source": [
    "col_list=[\"order_num_total_ever_online\", \"order_num_total_ever_offline\", \"customer_value_total_ever_offline\",\"customer_value_total_ever_online\"]\n",
    "for col in col_list:\n",
    "    replace_with_thresholds(df,col)"
   ]
  },
  {
   "cell_type": "code",
   "execution_count": 8,
   "metadata": {},
   "outputs": [
    {
     "data": {
      "text/html": [
       "<div>\n",
       "<style scoped>\n",
       "    .dataframe tbody tr th:only-of-type {\n",
       "        vertical-align: middle;\n",
       "    }\n",
       "\n",
       "    .dataframe tbody tr th {\n",
       "        vertical-align: top;\n",
       "    }\n",
       "\n",
       "    .dataframe thead th {\n",
       "        text-align: right;\n",
       "    }\n",
       "</style>\n",
       "<table border=\"1\" class=\"dataframe\">\n",
       "  <thead>\n",
       "    <tr style=\"text-align: right;\">\n",
       "      <th></th>\n",
       "      <th>count</th>\n",
       "      <th>mean</th>\n",
       "      <th>std</th>\n",
       "      <th>min</th>\n",
       "      <th>25%</th>\n",
       "      <th>50%</th>\n",
       "      <th>75%</th>\n",
       "      <th>max</th>\n",
       "    </tr>\n",
       "  </thead>\n",
       "  <tbody>\n",
       "    <tr>\n",
       "      <th>order_num_total_ever_online</th>\n",
       "      <td>19945.0</td>\n",
       "      <td>3.091953</td>\n",
       "      <td>3.809541</td>\n",
       "      <td>1.00</td>\n",
       "      <td>1.00</td>\n",
       "      <td>2.00</td>\n",
       "      <td>4.00</td>\n",
       "      <td>48.0</td>\n",
       "    </tr>\n",
       "    <tr>\n",
       "      <th>order_num_total_ever_offline</th>\n",
       "      <td>19945.0</td>\n",
       "      <td>1.886187</td>\n",
       "      <td>1.434694</td>\n",
       "      <td>1.00</td>\n",
       "      <td>1.00</td>\n",
       "      <td>1.00</td>\n",
       "      <td>2.00</td>\n",
       "      <td>16.0</td>\n",
       "    </tr>\n",
       "    <tr>\n",
       "      <th>customer_value_total_ever_offline</th>\n",
       "      <td>19945.0</td>\n",
       "      <td>251.921320</td>\n",
       "      <td>251.023670</td>\n",
       "      <td>10.00</td>\n",
       "      <td>99.99</td>\n",
       "      <td>179.98</td>\n",
       "      <td>319.97</td>\n",
       "      <td>3020.0</td>\n",
       "    </tr>\n",
       "    <tr>\n",
       "      <th>customer_value_total_ever_online</th>\n",
       "      <td>19945.0</td>\n",
       "      <td>489.705676</td>\n",
       "      <td>632.609844</td>\n",
       "      <td>12.99</td>\n",
       "      <td>149.98</td>\n",
       "      <td>286.46</td>\n",
       "      <td>578.44</td>\n",
       "      <td>7800.0</td>\n",
       "    </tr>\n",
       "  </tbody>\n",
       "</table>\n",
       "</div>"
      ],
      "text/plain": [
       "                                     count        mean         std    min  \\\n",
       "order_num_total_ever_online        19945.0    3.091953    3.809541   1.00   \n",
       "order_num_total_ever_offline       19945.0    1.886187    1.434694   1.00   \n",
       "customer_value_total_ever_offline  19945.0  251.921320  251.023670  10.00   \n",
       "customer_value_total_ever_online   19945.0  489.705676  632.609844  12.99   \n",
       "\n",
       "                                      25%     50%     75%     max  \n",
       "order_num_total_ever_online          1.00    2.00    4.00    48.0  \n",
       "order_num_total_ever_offline         1.00    1.00    2.00    16.0  \n",
       "customer_value_total_ever_offline   99.99  179.98  319.97  3020.0  \n",
       "customer_value_total_ever_online   149.98  286.46  578.44  7800.0  "
      ]
     },
     "execution_count": 8,
     "metadata": {},
     "output_type": "execute_result"
    }
   ],
   "source": [
    "df.describe().T"
   ]
  },
  {
   "cell_type": "markdown",
   "metadata": {},
   "source": [
    "### Adım4:  Omnichannel müşterilerin hem online'dan hem de offline platformlardan alışveriş yaptığını ifade etmektedir. Her bir müşterinin toplam alışveriş sayısı ve harcaması için yeni değişkenler oluşturunuz."
   ]
  },
  {
   "cell_type": "code",
   "execution_count": 9,
   "metadata": {},
   "outputs": [
    {
     "data": {
      "text/html": [
       "<div>\n",
       "<style scoped>\n",
       "    .dataframe tbody tr th:only-of-type {\n",
       "        vertical-align: middle;\n",
       "    }\n",
       "\n",
       "    .dataframe tbody tr th {\n",
       "        vertical-align: top;\n",
       "    }\n",
       "\n",
       "    .dataframe thead th {\n",
       "        text-align: right;\n",
       "    }\n",
       "</style>\n",
       "<table border=\"1\" class=\"dataframe\">\n",
       "  <thead>\n",
       "    <tr style=\"text-align: right;\">\n",
       "      <th></th>\n",
       "      <th>master_id</th>\n",
       "      <th>order_channel</th>\n",
       "      <th>last_order_channel</th>\n",
       "      <th>first_order_date</th>\n",
       "      <th>last_order_date</th>\n",
       "      <th>last_order_date_online</th>\n",
       "      <th>last_order_date_offline</th>\n",
       "      <th>order_num_total_ever_online</th>\n",
       "      <th>order_num_total_ever_offline</th>\n",
       "      <th>customer_value_total_ever_offline</th>\n",
       "      <th>customer_value_total_ever_online</th>\n",
       "      <th>interested_in_categories_12</th>\n",
       "      <th>total_order</th>\n",
       "      <th>total_value</th>\n",
       "    </tr>\n",
       "  </thead>\n",
       "  <tbody>\n",
       "    <tr>\n",
       "      <th>0</th>\n",
       "      <td>cc294636-19f0-11eb-8d74-000d3a38a36f</td>\n",
       "      <td>Android App</td>\n",
       "      <td>Offline</td>\n",
       "      <td>2020-10-30</td>\n",
       "      <td>2021-02-26</td>\n",
       "      <td>2021-02-21</td>\n",
       "      <td>2021-02-26</td>\n",
       "      <td>4.0</td>\n",
       "      <td>1.0</td>\n",
       "      <td>139.99</td>\n",
       "      <td>799.38</td>\n",
       "      <td>[KADIN]</td>\n",
       "      <td>5.0</td>\n",
       "      <td>939.37</td>\n",
       "    </tr>\n",
       "    <tr>\n",
       "      <th>1</th>\n",
       "      <td>f431bd5a-ab7b-11e9-a2fc-000d3a38a36f</td>\n",
       "      <td>Android App</td>\n",
       "      <td>Mobile</td>\n",
       "      <td>2017-02-08</td>\n",
       "      <td>2021-02-16</td>\n",
       "      <td>2021-02-16</td>\n",
       "      <td>2020-01-10</td>\n",
       "      <td>19.0</td>\n",
       "      <td>2.0</td>\n",
       "      <td>159.97</td>\n",
       "      <td>1853.58</td>\n",
       "      <td>[ERKEK, COCUK, KADIN, AKTIFSPOR]</td>\n",
       "      <td>21.0</td>\n",
       "      <td>2013.55</td>\n",
       "    </tr>\n",
       "    <tr>\n",
       "      <th>2</th>\n",
       "      <td>69b69676-1a40-11ea-941b-000d3a38a36f</td>\n",
       "      <td>Android App</td>\n",
       "      <td>Android App</td>\n",
       "      <td>2019-11-27</td>\n",
       "      <td>2020-11-27</td>\n",
       "      <td>2020-11-27</td>\n",
       "      <td>2019-12-01</td>\n",
       "      <td>3.0</td>\n",
       "      <td>2.0</td>\n",
       "      <td>189.97</td>\n",
       "      <td>395.35</td>\n",
       "      <td>[ERKEK, KADIN]</td>\n",
       "      <td>5.0</td>\n",
       "      <td>585.32</td>\n",
       "    </tr>\n",
       "    <tr>\n",
       "      <th>3</th>\n",
       "      <td>1854e56c-491f-11eb-806e-000d3a38a36f</td>\n",
       "      <td>Android App</td>\n",
       "      <td>Android App</td>\n",
       "      <td>2021-01-06</td>\n",
       "      <td>2021-01-17</td>\n",
       "      <td>2021-01-17</td>\n",
       "      <td>2021-01-06</td>\n",
       "      <td>1.0</td>\n",
       "      <td>1.0</td>\n",
       "      <td>39.99</td>\n",
       "      <td>81.98</td>\n",
       "      <td>[AKTIFCOCUK, COCUK]</td>\n",
       "      <td>2.0</td>\n",
       "      <td>121.97</td>\n",
       "    </tr>\n",
       "    <tr>\n",
       "      <th>4</th>\n",
       "      <td>d6ea1074-f1f5-11e9-9346-000d3a38a36f</td>\n",
       "      <td>Desktop</td>\n",
       "      <td>Desktop</td>\n",
       "      <td>2019-08-03</td>\n",
       "      <td>2021-03-07</td>\n",
       "      <td>2021-03-07</td>\n",
       "      <td>2019-08-03</td>\n",
       "      <td>1.0</td>\n",
       "      <td>1.0</td>\n",
       "      <td>49.99</td>\n",
       "      <td>159.99</td>\n",
       "      <td>[AKTIFSPOR]</td>\n",
       "      <td>2.0</td>\n",
       "      <td>209.98</td>\n",
       "    </tr>\n",
       "  </tbody>\n",
       "</table>\n",
       "</div>"
      ],
      "text/plain": [
       "                              master_id order_channel last_order_channel  \\\n",
       "0  cc294636-19f0-11eb-8d74-000d3a38a36f   Android App            Offline   \n",
       "1  f431bd5a-ab7b-11e9-a2fc-000d3a38a36f   Android App             Mobile   \n",
       "2  69b69676-1a40-11ea-941b-000d3a38a36f   Android App        Android App   \n",
       "3  1854e56c-491f-11eb-806e-000d3a38a36f   Android App        Android App   \n",
       "4  d6ea1074-f1f5-11e9-9346-000d3a38a36f       Desktop            Desktop   \n",
       "\n",
       "  first_order_date last_order_date last_order_date_online  \\\n",
       "0       2020-10-30      2021-02-26             2021-02-21   \n",
       "1       2017-02-08      2021-02-16             2021-02-16   \n",
       "2       2019-11-27      2020-11-27             2020-11-27   \n",
       "3       2021-01-06      2021-01-17             2021-01-17   \n",
       "4       2019-08-03      2021-03-07             2021-03-07   \n",
       "\n",
       "  last_order_date_offline  order_num_total_ever_online  \\\n",
       "0              2021-02-26                          4.0   \n",
       "1              2020-01-10                         19.0   \n",
       "2              2019-12-01                          3.0   \n",
       "3              2021-01-06                          1.0   \n",
       "4              2019-08-03                          1.0   \n",
       "\n",
       "   order_num_total_ever_offline  customer_value_total_ever_offline  \\\n",
       "0                           1.0                             139.99   \n",
       "1                           2.0                             159.97   \n",
       "2                           2.0                             189.97   \n",
       "3                           1.0                              39.99   \n",
       "4                           1.0                              49.99   \n",
       "\n",
       "   customer_value_total_ever_online       interested_in_categories_12  \\\n",
       "0                            799.38                           [KADIN]   \n",
       "1                           1853.58  [ERKEK, COCUK, KADIN, AKTIFSPOR]   \n",
       "2                            395.35                    [ERKEK, KADIN]   \n",
       "3                             81.98               [AKTIFCOCUK, COCUK]   \n",
       "4                            159.99                       [AKTIFSPOR]   \n",
       "\n",
       "   total_order  total_value  \n",
       "0          5.0       939.37  \n",
       "1         21.0      2013.55  \n",
       "2          5.0       585.32  \n",
       "3          2.0       121.97  \n",
       "4          2.0       209.98  "
      ]
     },
     "execution_count": 9,
     "metadata": {},
     "output_type": "execute_result"
    }
   ],
   "source": [
    "df[\"total_order\"]=df[\"order_num_total_ever_online\"]+df[\"order_num_total_ever_offline\"]\n",
    "df[\"total_value\"]=df[\"customer_value_total_ever_offline\"]+df[\"customer_value_total_ever_online\"]\n",
    "df.head()"
   ]
  },
  {
   "cell_type": "markdown",
   "metadata": {},
   "source": [
    "### Adım5:  Değişken tiplerini inceleyiniz. Tarih ifade eden değişkenlerin tipini date'e çeviriniz."
   ]
  },
  {
   "cell_type": "code",
   "execution_count": 10,
   "metadata": {},
   "outputs": [
    {
     "data": {
      "text/plain": [
       "Index(['first_order_date', 'last_order_date', 'last_order_date_online',\n",
       "       'last_order_date_offline'],\n",
       "      dtype='object')"
      ]
     },
     "execution_count": 10,
     "metadata": {},
     "output_type": "execute_result"
    }
   ],
   "source": [
    "date_col=df.columns[df.columns.str.contains(\"date\")]\n",
    "date_col\n"
   ]
  },
  {
   "cell_type": "code",
   "execution_count": 11,
   "metadata": {},
   "outputs": [],
   "source": [
    "df[date_col]=df[date_col].apply(pd.to_datetime)"
   ]
  },
  {
   "cell_type": "code",
   "execution_count": 12,
   "metadata": {},
   "outputs": [
    {
     "name": "stdout",
     "output_type": "stream",
     "text": [
      "<class 'pandas.core.frame.DataFrame'>\n",
      "RangeIndex: 19945 entries, 0 to 19944\n",
      "Data columns (total 14 columns):\n",
      " #   Column                             Non-Null Count  Dtype         \n",
      "---  ------                             --------------  -----         \n",
      " 0   master_id                          19945 non-null  object        \n",
      " 1   order_channel                      19945 non-null  object        \n",
      " 2   last_order_channel                 19945 non-null  object        \n",
      " 3   first_order_date                   19945 non-null  datetime64[ns]\n",
      " 4   last_order_date                    19945 non-null  datetime64[ns]\n",
      " 5   last_order_date_online             19945 non-null  datetime64[ns]\n",
      " 6   last_order_date_offline            19945 non-null  datetime64[ns]\n",
      " 7   order_num_total_ever_online        19945 non-null  float64       \n",
      " 8   order_num_total_ever_offline       19945 non-null  float64       \n",
      " 9   customer_value_total_ever_offline  19945 non-null  float64       \n",
      " 10  customer_value_total_ever_online   19945 non-null  float64       \n",
      " 11  interested_in_categories_12        19945 non-null  object        \n",
      " 12  total_order                        19945 non-null  float64       \n",
      " 13  total_value                        19945 non-null  float64       \n",
      "dtypes: datetime64[ns](4), float64(6), object(4)\n",
      "memory usage: 2.1+ MB\n"
     ]
    }
   ],
   "source": [
    "df.info()"
   ]
  },
  {
   "cell_type": "markdown",
   "metadata": {},
   "source": [
    "# Görev 2:  CLTV Veri Yapısının Oluşturulması"
   ]
  },
  {
   "cell_type": "markdown",
   "metadata": {},
   "source": [
    "### Adım1:  Veri setindeki enson alışverişin yapıldığı tarihten 2 gün sonrasını analiz tarihi olarak alınız."
   ]
  },
  {
   "cell_type": "code",
   "execution_count": 13,
   "metadata": {},
   "outputs": [
    {
     "data": {
      "text/plain": [
       "first_order_date          2021-05-27\n",
       "last_order_date           2021-05-30\n",
       "last_order_date_online    2021-05-30\n",
       "last_order_date_offline   2021-05-28\n",
       "dtype: datetime64[ns]"
      ]
     },
     "execution_count": 13,
     "metadata": {},
     "output_type": "execute_result"
    }
   ],
   "source": [
    "df[date_col].max()"
   ]
  },
  {
   "cell_type": "code",
   "execution_count": 14,
   "metadata": {},
   "outputs": [
    {
     "data": {
      "text/plain": [
       "datetime.datetime(2021, 6, 1, 0, 0)"
      ]
     },
     "execution_count": 14,
     "metadata": {},
     "output_type": "execute_result"
    }
   ],
   "source": [
    "today_date=dt.datetime(2021,6,1)\n",
    "today_date"
   ]
  },
  {
   "cell_type": "markdown",
   "metadata": {},
   "source": [
    "### Adım2:  customer_id, recency_cltv_weekly, T_weekly, frequency ve monetary_cltv_avg değerlerinin yer aldığı yeni bir cltv ataframe'i oluşturunuz. Monetary değeri satınalma başına ortalama değer olarak, recency ve tenure değerleri ise haftalık cinsten ifade edilecek."
   ]
  },
  {
   "cell_type": "code",
   "execution_count": 15,
   "metadata": {},
   "outputs": [],
   "source": [
    "cltv_df=pd.DataFrame()"
   ]
  },
  {
   "cell_type": "code",
   "execution_count": 16,
   "metadata": {},
   "outputs": [],
   "source": [
    "cltv_df[\"customer_id\"]=df[\"master_id\"]"
   ]
  },
  {
   "cell_type": "code",
   "execution_count": 17,
   "metadata": {},
   "outputs": [],
   "source": [
    "cltv_df[\"recency_cltv_weekly\"] = (df[\"last_order_date\"]- df[\"first_order_date\"]).astype('timedelta64[D]') / 7"
   ]
  },
  {
   "cell_type": "code",
   "execution_count": 18,
   "metadata": {},
   "outputs": [],
   "source": [
    "cltv_df[\"T_weekly\"] = ((today_date - df[\"first_order_date\"]).astype('timedelta64[D]'))/7"
   ]
  },
  {
   "cell_type": "code",
   "execution_count": 19,
   "metadata": {},
   "outputs": [],
   "source": [
    "cltv_df[\"frequency\"]=df[\"total_order\"]"
   ]
  },
  {
   "cell_type": "code",
   "execution_count": 20,
   "metadata": {},
   "outputs": [],
   "source": [
    "cltv_df[\"monetary_cltv_avg\"]=df[\"total_value\"]/df[\"total_order\"]"
   ]
  },
  {
   "cell_type": "code",
   "execution_count": 21,
   "metadata": {},
   "outputs": [
    {
     "data": {
      "text/html": [
       "<div>\n",
       "<style scoped>\n",
       "    .dataframe tbody tr th:only-of-type {\n",
       "        vertical-align: middle;\n",
       "    }\n",
       "\n",
       "    .dataframe tbody tr th {\n",
       "        vertical-align: top;\n",
       "    }\n",
       "\n",
       "    .dataframe thead th {\n",
       "        text-align: right;\n",
       "    }\n",
       "</style>\n",
       "<table border=\"1\" class=\"dataframe\">\n",
       "  <thead>\n",
       "    <tr style=\"text-align: right;\">\n",
       "      <th></th>\n",
       "      <th>customer_id</th>\n",
       "      <th>recency_cltv_weekly</th>\n",
       "      <th>T_weekly</th>\n",
       "      <th>frequency</th>\n",
       "      <th>monetary_cltv_avg</th>\n",
       "    </tr>\n",
       "  </thead>\n",
       "  <tbody>\n",
       "    <tr>\n",
       "      <th>0</th>\n",
       "      <td>cc294636-19f0-11eb-8d74-000d3a38a36f</td>\n",
       "      <td>17.000000</td>\n",
       "      <td>30.571429</td>\n",
       "      <td>5.0</td>\n",
       "      <td>187.874000</td>\n",
       "    </tr>\n",
       "    <tr>\n",
       "      <th>1</th>\n",
       "      <td>f431bd5a-ab7b-11e9-a2fc-000d3a38a36f</td>\n",
       "      <td>209.857143</td>\n",
       "      <td>224.857143</td>\n",
       "      <td>21.0</td>\n",
       "      <td>95.883333</td>\n",
       "    </tr>\n",
       "    <tr>\n",
       "      <th>2</th>\n",
       "      <td>69b69676-1a40-11ea-941b-000d3a38a36f</td>\n",
       "      <td>52.285714</td>\n",
       "      <td>78.857143</td>\n",
       "      <td>5.0</td>\n",
       "      <td>117.064000</td>\n",
       "    </tr>\n",
       "    <tr>\n",
       "      <th>3</th>\n",
       "      <td>1854e56c-491f-11eb-806e-000d3a38a36f</td>\n",
       "      <td>1.571429</td>\n",
       "      <td>20.857143</td>\n",
       "      <td>2.0</td>\n",
       "      <td>60.985000</td>\n",
       "    </tr>\n",
       "    <tr>\n",
       "      <th>4</th>\n",
       "      <td>d6ea1074-f1f5-11e9-9346-000d3a38a36f</td>\n",
       "      <td>83.142857</td>\n",
       "      <td>95.428571</td>\n",
       "      <td>2.0</td>\n",
       "      <td>104.990000</td>\n",
       "    </tr>\n",
       "  </tbody>\n",
       "</table>\n",
       "</div>"
      ],
      "text/plain": [
       "                            customer_id  recency_cltv_weekly    T_weekly  \\\n",
       "0  cc294636-19f0-11eb-8d74-000d3a38a36f            17.000000   30.571429   \n",
       "1  f431bd5a-ab7b-11e9-a2fc-000d3a38a36f           209.857143  224.857143   \n",
       "2  69b69676-1a40-11ea-941b-000d3a38a36f            52.285714   78.857143   \n",
       "3  1854e56c-491f-11eb-806e-000d3a38a36f             1.571429   20.857143   \n",
       "4  d6ea1074-f1f5-11e9-9346-000d3a38a36f            83.142857   95.428571   \n",
       "\n",
       "   frequency  monetary_cltv_avg  \n",
       "0        5.0         187.874000  \n",
       "1       21.0          95.883333  \n",
       "2        5.0         117.064000  \n",
       "3        2.0          60.985000  \n",
       "4        2.0         104.990000  "
      ]
     },
     "execution_count": 21,
     "metadata": {},
     "output_type": "execute_result"
    }
   ],
   "source": [
    "cltv_df.head()"
   ]
  },
  {
   "cell_type": "code",
   "execution_count": 22,
   "metadata": {},
   "outputs": [
    {
     "name": "stdout",
     "output_type": "stream",
     "text": [
      "<class 'pandas.core.frame.DataFrame'>\n",
      "RangeIndex: 19945 entries, 0 to 19944\n",
      "Data columns (total 5 columns):\n",
      " #   Column               Non-Null Count  Dtype  \n",
      "---  ------               --------------  -----  \n",
      " 0   customer_id          19945 non-null  object \n",
      " 1   recency_cltv_weekly  19945 non-null  float64\n",
      " 2   T_weekly             19945 non-null  float64\n",
      " 3   frequency            19945 non-null  float64\n",
      " 4   monetary_cltv_avg    19945 non-null  float64\n",
      "dtypes: float64(4), object(1)\n",
      "memory usage: 779.2+ KB\n"
     ]
    }
   ],
   "source": [
    "cltv_df.info()"
   ]
  },
  {
   "cell_type": "code",
   "execution_count": 23,
   "metadata": {},
   "outputs": [
    {
     "data": {
      "text/html": [
       "<div>\n",
       "<style scoped>\n",
       "    .dataframe tbody tr th:only-of-type {\n",
       "        vertical-align: middle;\n",
       "    }\n",
       "\n",
       "    .dataframe tbody tr th {\n",
       "        vertical-align: top;\n",
       "    }\n",
       "\n",
       "    .dataframe thead th {\n",
       "        text-align: right;\n",
       "    }\n",
       "</style>\n",
       "<table border=\"1\" class=\"dataframe\">\n",
       "  <thead>\n",
       "    <tr style=\"text-align: right;\">\n",
       "      <th></th>\n",
       "      <th>customer_id</th>\n",
       "      <th>recency</th>\n",
       "      <th>T</th>\n",
       "      <th>frequency</th>\n",
       "      <th>monetary</th>\n",
       "    </tr>\n",
       "  </thead>\n",
       "  <tbody>\n",
       "    <tr>\n",
       "      <th>0</th>\n",
       "      <td>cc294636-19f0-11eb-8d74-000d3a38a36f</td>\n",
       "      <td>17.000000</td>\n",
       "      <td>30.571429</td>\n",
       "      <td>5.0</td>\n",
       "      <td>187.874000</td>\n",
       "    </tr>\n",
       "    <tr>\n",
       "      <th>1</th>\n",
       "      <td>f431bd5a-ab7b-11e9-a2fc-000d3a38a36f</td>\n",
       "      <td>209.857143</td>\n",
       "      <td>224.857143</td>\n",
       "      <td>21.0</td>\n",
       "      <td>95.883333</td>\n",
       "    </tr>\n",
       "    <tr>\n",
       "      <th>2</th>\n",
       "      <td>69b69676-1a40-11ea-941b-000d3a38a36f</td>\n",
       "      <td>52.285714</td>\n",
       "      <td>78.857143</td>\n",
       "      <td>5.0</td>\n",
       "      <td>117.064000</td>\n",
       "    </tr>\n",
       "    <tr>\n",
       "      <th>3</th>\n",
       "      <td>1854e56c-491f-11eb-806e-000d3a38a36f</td>\n",
       "      <td>1.571429</td>\n",
       "      <td>20.857143</td>\n",
       "      <td>2.0</td>\n",
       "      <td>60.985000</td>\n",
       "    </tr>\n",
       "    <tr>\n",
       "      <th>4</th>\n",
       "      <td>d6ea1074-f1f5-11e9-9346-000d3a38a36f</td>\n",
       "      <td>83.142857</td>\n",
       "      <td>95.428571</td>\n",
       "      <td>2.0</td>\n",
       "      <td>104.990000</td>\n",
       "    </tr>\n",
       "  </tbody>\n",
       "</table>\n",
       "</div>"
      ],
      "text/plain": [
       "                            customer_id     recency           T  frequency  \\\n",
       "0  cc294636-19f0-11eb-8d74-000d3a38a36f   17.000000   30.571429        5.0   \n",
       "1  f431bd5a-ab7b-11e9-a2fc-000d3a38a36f  209.857143  224.857143       21.0   \n",
       "2  69b69676-1a40-11ea-941b-000d3a38a36f   52.285714   78.857143        5.0   \n",
       "3  1854e56c-491f-11eb-806e-000d3a38a36f    1.571429   20.857143        2.0   \n",
       "4  d6ea1074-f1f5-11e9-9346-000d3a38a36f   83.142857   95.428571        2.0   \n",
       "\n",
       "     monetary  \n",
       "0  187.874000  \n",
       "1   95.883333  \n",
       "2  117.064000  \n",
       "3   60.985000  \n",
       "4  104.990000  "
      ]
     },
     "execution_count": 23,
     "metadata": {},
     "output_type": "execute_result"
    }
   ],
   "source": [
    "cltv_df.columns = [\"customer_id\", \"recency\", \"T\", \"frequency\", \"monetary\"]\n",
    "cltv_df.head()"
   ]
  },
  {
   "cell_type": "code",
   "execution_count": 24,
   "metadata": {},
   "outputs": [
    {
     "data": {
      "text/html": [
       "<div>\n",
       "<style scoped>\n",
       "    .dataframe tbody tr th:only-of-type {\n",
       "        vertical-align: middle;\n",
       "    }\n",
       "\n",
       "    .dataframe tbody tr th {\n",
       "        vertical-align: top;\n",
       "    }\n",
       "\n",
       "    .dataframe thead th {\n",
       "        text-align: right;\n",
       "    }\n",
       "</style>\n",
       "<table border=\"1\" class=\"dataframe\">\n",
       "  <thead>\n",
       "    <tr style=\"text-align: right;\">\n",
       "      <th></th>\n",
       "      <th>count</th>\n",
       "      <th>mean</th>\n",
       "      <th>std</th>\n",
       "      <th>min</th>\n",
       "      <th>25%</th>\n",
       "      <th>50%</th>\n",
       "      <th>75%</th>\n",
       "      <th>max</th>\n",
       "    </tr>\n",
       "  </thead>\n",
       "  <tbody>\n",
       "    <tr>\n",
       "      <th>recency</th>\n",
       "      <td>19945.0</td>\n",
       "      <td>95.263496</td>\n",
       "      <td>74.589446</td>\n",
       "      <td>0.000000</td>\n",
       "      <td>50.428571</td>\n",
       "      <td>76.571429</td>\n",
       "      <td>109.428571</td>\n",
       "      <td>433.428571</td>\n",
       "    </tr>\n",
       "    <tr>\n",
       "      <th>T</th>\n",
       "      <td>19945.0</td>\n",
       "      <td>114.471833</td>\n",
       "      <td>74.770983</td>\n",
       "      <td>0.714286</td>\n",
       "      <td>73.857143</td>\n",
       "      <td>93.000000</td>\n",
       "      <td>119.428571</td>\n",
       "      <td>437.142857</td>\n",
       "    </tr>\n",
       "    <tr>\n",
       "      <th>frequency</th>\n",
       "      <td>19945.0</td>\n",
       "      <td>4.978140</td>\n",
       "      <td>4.120919</td>\n",
       "      <td>2.000000</td>\n",
       "      <td>3.000000</td>\n",
       "      <td>4.000000</td>\n",
       "      <td>6.000000</td>\n",
       "      <td>57.000000</td>\n",
       "    </tr>\n",
       "    <tr>\n",
       "      <th>monetary</th>\n",
       "      <td>19945.0</td>\n",
       "      <td>152.099009</td>\n",
       "      <td>73.524091</td>\n",
       "      <td>22.490000</td>\n",
       "      <td>103.653333</td>\n",
       "      <td>136.906154</td>\n",
       "      <td>182.450000</td>\n",
       "      <td>1401.800000</td>\n",
       "    </tr>\n",
       "  </tbody>\n",
       "</table>\n",
       "</div>"
      ],
      "text/plain": [
       "             count        mean        std        min         25%         50%  \\\n",
       "recency    19945.0   95.263496  74.589446   0.000000   50.428571   76.571429   \n",
       "T          19945.0  114.471833  74.770983   0.714286   73.857143   93.000000   \n",
       "frequency  19945.0    4.978140   4.120919   2.000000    3.000000    4.000000   \n",
       "monetary   19945.0  152.099009  73.524091  22.490000  103.653333  136.906154   \n",
       "\n",
       "                  75%          max  \n",
       "recency    109.428571   433.428571  \n",
       "T          119.428571   437.142857  \n",
       "frequency    6.000000    57.000000  \n",
       "monetary   182.450000  1401.800000  "
      ]
     },
     "execution_count": 24,
     "metadata": {},
     "output_type": "execute_result"
    }
   ],
   "source": [
    "cltv_df.describe().T"
   ]
  },
  {
   "cell_type": "markdown",
   "metadata": {},
   "source": [
    "# Görev 3:  BG/NBD, Gamma-Gamma Modellerinin Kurulması ve CLTV’nin Hesaplanması"
   ]
  },
  {
   "cell_type": "markdown",
   "metadata": {},
   "source": [
    "### Adım1: BG/NBD modelini fit ediniz.\n",
    "* • 3 ay içerisinde müşterilerden beklenen satın almaları tahmin ediniz ve exp_sales_3_month olarak cltv\n",
    "dataframe'ine ekleyiniz.\n",
    "* • 6 ay içerisinde müşterilerden beklenen satın almaları tahmin ediniz ve exp_sales_6_month olarak cltv\n",
    "dataframe'ine ekleyiniz."
   ]
  },
  {
   "cell_type": "code",
   "execution_count": 25,
   "metadata": {},
   "outputs": [
    {
     "data": {
      "text/plain": [
       "<lifetimes.BetaGeoFitter: fitted with 19945 subjects, a: 0.00, alpha: 76.17, b: 0.00, r: 3.66>"
      ]
     },
     "execution_count": 25,
     "metadata": {},
     "output_type": "execute_result"
    }
   ],
   "source": [
    "bgf = BetaGeoFitter(penalizer_coef=0.001)\n",
    "bgf.fit(cltv_df[\"frequency\"],\n",
    "            cltv_df[\"recency\"],\n",
    "            cltv_df[\"T\"])"
   ]
  },
  {
   "cell_type": "code",
   "execution_count": 26,
   "metadata": {},
   "outputs": [],
   "source": [
    "cltv_df[\"exp_sales_3_month\"] = bgf.predict(3*4, cltv_df['frequency'],cltv_df['recency'],cltv_df['T'])"
   ]
  },
  {
   "cell_type": "code",
   "execution_count": 27,
   "metadata": {},
   "outputs": [
    {
     "data": {
      "text/html": [
       "<div>\n",
       "<style scoped>\n",
       "    .dataframe tbody tr th:only-of-type {\n",
       "        vertical-align: middle;\n",
       "    }\n",
       "\n",
       "    .dataframe tbody tr th {\n",
       "        vertical-align: top;\n",
       "    }\n",
       "\n",
       "    .dataframe thead th {\n",
       "        text-align: right;\n",
       "    }\n",
       "</style>\n",
       "<table border=\"1\" class=\"dataframe\">\n",
       "  <thead>\n",
       "    <tr style=\"text-align: right;\">\n",
       "      <th></th>\n",
       "      <th>customer_id</th>\n",
       "      <th>recency</th>\n",
       "      <th>T</th>\n",
       "      <th>frequency</th>\n",
       "      <th>monetary</th>\n",
       "      <th>exp_sales_3_month</th>\n",
       "    </tr>\n",
       "  </thead>\n",
       "  <tbody>\n",
       "    <tr>\n",
       "      <th>0</th>\n",
       "      <td>cc294636-19f0-11eb-8d74-000d3a38a36f</td>\n",
       "      <td>17.000000</td>\n",
       "      <td>30.571429</td>\n",
       "      <td>5.0</td>\n",
       "      <td>187.874000</td>\n",
       "      <td>0.973927</td>\n",
       "    </tr>\n",
       "    <tr>\n",
       "      <th>1</th>\n",
       "      <td>f431bd5a-ab7b-11e9-a2fc-000d3a38a36f</td>\n",
       "      <td>209.857143</td>\n",
       "      <td>224.857143</td>\n",
       "      <td>21.0</td>\n",
       "      <td>95.883333</td>\n",
       "      <td>0.983161</td>\n",
       "    </tr>\n",
       "    <tr>\n",
       "      <th>2</th>\n",
       "      <td>69b69676-1a40-11ea-941b-000d3a38a36f</td>\n",
       "      <td>52.285714</td>\n",
       "      <td>78.857143</td>\n",
       "      <td>5.0</td>\n",
       "      <td>117.064000</td>\n",
       "      <td>0.670586</td>\n",
       "    </tr>\n",
       "    <tr>\n",
       "      <th>3</th>\n",
       "      <td>1854e56c-491f-11eb-806e-000d3a38a36f</td>\n",
       "      <td>1.571429</td>\n",
       "      <td>20.857143</td>\n",
       "      <td>2.0</td>\n",
       "      <td>60.985000</td>\n",
       "      <td>0.700412</td>\n",
       "    </tr>\n",
       "    <tr>\n",
       "      <th>4</th>\n",
       "      <td>d6ea1074-f1f5-11e9-9346-000d3a38a36f</td>\n",
       "      <td>83.142857</td>\n",
       "      <td>95.428571</td>\n",
       "      <td>2.0</td>\n",
       "      <td>104.990000</td>\n",
       "      <td>0.396039</td>\n",
       "    </tr>\n",
       "  </tbody>\n",
       "</table>\n",
       "</div>"
      ],
      "text/plain": [
       "                            customer_id     recency           T  frequency  \\\n",
       "0  cc294636-19f0-11eb-8d74-000d3a38a36f   17.000000   30.571429        5.0   \n",
       "1  f431bd5a-ab7b-11e9-a2fc-000d3a38a36f  209.857143  224.857143       21.0   \n",
       "2  69b69676-1a40-11ea-941b-000d3a38a36f   52.285714   78.857143        5.0   \n",
       "3  1854e56c-491f-11eb-806e-000d3a38a36f    1.571429   20.857143        2.0   \n",
       "4  d6ea1074-f1f5-11e9-9346-000d3a38a36f   83.142857   95.428571        2.0   \n",
       "\n",
       "     monetary  exp_sales_3_month  \n",
       "0  187.874000           0.973927  \n",
       "1   95.883333           0.983161  \n",
       "2  117.064000           0.670586  \n",
       "3   60.985000           0.700412  \n",
       "4  104.990000           0.396039  "
      ]
     },
     "execution_count": 27,
     "metadata": {},
     "output_type": "execute_result"
    }
   ],
   "source": [
    "cltv_df.head()"
   ]
  },
  {
   "cell_type": "code",
   "execution_count": 28,
   "metadata": {},
   "outputs": [],
   "source": [
    "cltv_df[\"exp_sales_6_month\"] = bgf.predict(6*4, cltv_df['frequency'],cltv_df['recency'],cltv_df['T'])"
   ]
  },
  {
   "cell_type": "code",
   "execution_count": 29,
   "metadata": {},
   "outputs": [
    {
     "data": {
      "text/html": [
       "<div>\n",
       "<style scoped>\n",
       "    .dataframe tbody tr th:only-of-type {\n",
       "        vertical-align: middle;\n",
       "    }\n",
       "\n",
       "    .dataframe tbody tr th {\n",
       "        vertical-align: top;\n",
       "    }\n",
       "\n",
       "    .dataframe thead th {\n",
       "        text-align: right;\n",
       "    }\n",
       "</style>\n",
       "<table border=\"1\" class=\"dataframe\">\n",
       "  <thead>\n",
       "    <tr style=\"text-align: right;\">\n",
       "      <th></th>\n",
       "      <th>customer_id</th>\n",
       "      <th>recency</th>\n",
       "      <th>T</th>\n",
       "      <th>frequency</th>\n",
       "      <th>monetary</th>\n",
       "      <th>exp_sales_3_month</th>\n",
       "      <th>exp_sales_6_month</th>\n",
       "    </tr>\n",
       "  </thead>\n",
       "  <tbody>\n",
       "    <tr>\n",
       "      <th>0</th>\n",
       "      <td>cc294636-19f0-11eb-8d74-000d3a38a36f</td>\n",
       "      <td>17.000000</td>\n",
       "      <td>30.571429</td>\n",
       "      <td>5.0</td>\n",
       "      <td>187.874000</td>\n",
       "      <td>0.973927</td>\n",
       "      <td>1.947853</td>\n",
       "    </tr>\n",
       "    <tr>\n",
       "      <th>1</th>\n",
       "      <td>f431bd5a-ab7b-11e9-a2fc-000d3a38a36f</td>\n",
       "      <td>209.857143</td>\n",
       "      <td>224.857143</td>\n",
       "      <td>21.0</td>\n",
       "      <td>95.883333</td>\n",
       "      <td>0.983161</td>\n",
       "      <td>1.966323</td>\n",
       "    </tr>\n",
       "    <tr>\n",
       "      <th>2</th>\n",
       "      <td>69b69676-1a40-11ea-941b-000d3a38a36f</td>\n",
       "      <td>52.285714</td>\n",
       "      <td>78.857143</td>\n",
       "      <td>5.0</td>\n",
       "      <td>117.064000</td>\n",
       "      <td>0.670586</td>\n",
       "      <td>1.341172</td>\n",
       "    </tr>\n",
       "    <tr>\n",
       "      <th>3</th>\n",
       "      <td>1854e56c-491f-11eb-806e-000d3a38a36f</td>\n",
       "      <td>1.571429</td>\n",
       "      <td>20.857143</td>\n",
       "      <td>2.0</td>\n",
       "      <td>60.985000</td>\n",
       "      <td>0.700412</td>\n",
       "      <td>1.400824</td>\n",
       "    </tr>\n",
       "    <tr>\n",
       "      <th>4</th>\n",
       "      <td>d6ea1074-f1f5-11e9-9346-000d3a38a36f</td>\n",
       "      <td>83.142857</td>\n",
       "      <td>95.428571</td>\n",
       "      <td>2.0</td>\n",
       "      <td>104.990000</td>\n",
       "      <td>0.396039</td>\n",
       "      <td>0.792077</td>\n",
       "    </tr>\n",
       "  </tbody>\n",
       "</table>\n",
       "</div>"
      ],
      "text/plain": [
       "                            customer_id     recency           T  frequency  \\\n",
       "0  cc294636-19f0-11eb-8d74-000d3a38a36f   17.000000   30.571429        5.0   \n",
       "1  f431bd5a-ab7b-11e9-a2fc-000d3a38a36f  209.857143  224.857143       21.0   \n",
       "2  69b69676-1a40-11ea-941b-000d3a38a36f   52.285714   78.857143        5.0   \n",
       "3  1854e56c-491f-11eb-806e-000d3a38a36f    1.571429   20.857143        2.0   \n",
       "4  d6ea1074-f1f5-11e9-9346-000d3a38a36f   83.142857   95.428571        2.0   \n",
       "\n",
       "     monetary  exp_sales_3_month  exp_sales_6_month  \n",
       "0  187.874000           0.973927           1.947853  \n",
       "1   95.883333           0.983161           1.966323  \n",
       "2  117.064000           0.670586           1.341172  \n",
       "3   60.985000           0.700412           1.400824  \n",
       "4  104.990000           0.396039           0.792077  "
      ]
     },
     "execution_count": 29,
     "metadata": {},
     "output_type": "execute_result"
    }
   ],
   "source": [
    "cltv_df.head()"
   ]
  },
  {
   "cell_type": "code",
   "execution_count": 30,
   "metadata": {},
   "outputs": [],
   "source": [
    "import matplotlib.pyplot as plt\n",
    "from lifetimes.plotting import plot_period_transactions"
   ]
  },
  {
   "cell_type": "code",
   "execution_count": 31,
   "metadata": {},
   "outputs": [
    {
     "data": {
      "image/png": "[encoded data removed]",
      "text/plain": [
       "<Figure size 640x480 with 1 Axes>"
      ]
     },
     "metadata": {},
     "output_type": "display_data"
    }
   ],
   "source": [
    "plot_period_transactions(bgf)\n",
    "plt.show()"
   ]
  },
  {
   "cell_type": "markdown",
   "metadata": {},
   "source": [
    "### Adım2: Gamma-Gamma modelini fit ediniz. Müşterilerin ortalama bırakacakları değeri tahminleyip\n",
    "* exp_average_value olarak cltv dataframe'ine ekleyiniz."
   ]
  },
  {
   "cell_type": "code",
   "execution_count": 32,
   "metadata": {},
   "outputs": [
    {
     "data": {
      "text/plain": [
       "<lifetimes.GammaGammaFitter: fitted with 19945 subjects, p: 4.15, q: 0.47, v: 4.08>"
      ]
     },
     "execution_count": 32,
     "metadata": {},
     "output_type": "execute_result"
    }
   ],
   "source": [
    "ggf = GammaGammaFitter(penalizer_coef=0.01)\n",
    "ggf.fit(cltv_df['frequency'], cltv_df['monetary'])"
   ]
  },
  {
   "cell_type": "code",
   "execution_count": 33,
   "metadata": {},
   "outputs": [
    {
     "data": {
      "text/html": [
       "<div>\n",
       "<style scoped>\n",
       "    .dataframe tbody tr th:only-of-type {\n",
       "        vertical-align: middle;\n",
       "    }\n",
       "\n",
       "    .dataframe tbody tr th {\n",
       "        vertical-align: top;\n",
       "    }\n",
       "\n",
       "    .dataframe thead th {\n",
       "        text-align: right;\n",
       "    }\n",
       "</style>\n",
       "<table border=\"1\" class=\"dataframe\">\n",
       "  <thead>\n",
       "    <tr style=\"text-align: right;\">\n",
       "      <th></th>\n",
       "      <th>customer_id</th>\n",
       "      <th>recency</th>\n",
       "      <th>T</th>\n",
       "      <th>frequency</th>\n",
       "      <th>monetary</th>\n",
       "      <th>exp_sales_3_month</th>\n",
       "      <th>exp_sales_6_month</th>\n",
       "      <th>exp_average_value</th>\n",
       "    </tr>\n",
       "  </thead>\n",
       "  <tbody>\n",
       "    <tr>\n",
       "      <th>0</th>\n",
       "      <td>cc294636-19f0-11eb-8d74-000d3a38a36f</td>\n",
       "      <td>17.000000</td>\n",
       "      <td>30.571429</td>\n",
       "      <td>5.0</td>\n",
       "      <td>187.874000</td>\n",
       "      <td>0.973927</td>\n",
       "      <td>1.947853</td>\n",
       "      <td>193.632679</td>\n",
       "    </tr>\n",
       "    <tr>\n",
       "      <th>1</th>\n",
       "      <td>f431bd5a-ab7b-11e9-a2fc-000d3a38a36f</td>\n",
       "      <td>209.857143</td>\n",
       "      <td>224.857143</td>\n",
       "      <td>21.0</td>\n",
       "      <td>95.883333</td>\n",
       "      <td>0.983161</td>\n",
       "      <td>1.966323</td>\n",
       "      <td>96.665048</td>\n",
       "    </tr>\n",
       "    <tr>\n",
       "      <th>2</th>\n",
       "      <td>69b69676-1a40-11ea-941b-000d3a38a36f</td>\n",
       "      <td>52.285714</td>\n",
       "      <td>78.857143</td>\n",
       "      <td>5.0</td>\n",
       "      <td>117.064000</td>\n",
       "      <td>0.670586</td>\n",
       "      <td>1.341172</td>\n",
       "      <td>120.967619</td>\n",
       "    </tr>\n",
       "    <tr>\n",
       "      <th>3</th>\n",
       "      <td>1854e56c-491f-11eb-806e-000d3a38a36f</td>\n",
       "      <td>1.571429</td>\n",
       "      <td>20.857143</td>\n",
       "      <td>2.0</td>\n",
       "      <td>60.985000</td>\n",
       "      <td>0.700412</td>\n",
       "      <td>1.400824</td>\n",
       "      <td>67.320145</td>\n",
       "    </tr>\n",
       "    <tr>\n",
       "      <th>4</th>\n",
       "      <td>d6ea1074-f1f5-11e9-9346-000d3a38a36f</td>\n",
       "      <td>83.142857</td>\n",
       "      <td>95.428571</td>\n",
       "      <td>2.0</td>\n",
       "      <td>104.990000</td>\n",
       "      <td>0.396039</td>\n",
       "      <td>0.792077</td>\n",
       "      <td>114.325108</td>\n",
       "    </tr>\n",
       "  </tbody>\n",
       "</table>\n",
       "</div>"
      ],
      "text/plain": [
       "                            customer_id     recency           T  frequency  \\\n",
       "0  cc294636-19f0-11eb-8d74-000d3a38a36f   17.000000   30.571429        5.0   \n",
       "1  f431bd5a-ab7b-11e9-a2fc-000d3a38a36f  209.857143  224.857143       21.0   \n",
       "2  69b69676-1a40-11ea-941b-000d3a38a36f   52.285714   78.857143        5.0   \n",
       "3  1854e56c-491f-11eb-806e-000d3a38a36f    1.571429   20.857143        2.0   \n",
       "4  d6ea1074-f1f5-11e9-9346-000d3a38a36f   83.142857   95.428571        2.0   \n",
       "\n",
       "     monetary  exp_sales_3_month  exp_sales_6_month  exp_average_value  \n",
       "0  187.874000           0.973927           1.947853         193.632679  \n",
       "1   95.883333           0.983161           1.966323          96.665048  \n",
       "2  117.064000           0.670586           1.341172         120.967619  \n",
       "3   60.985000           0.700412           1.400824          67.320145  \n",
       "4  104.990000           0.396039           0.792077         114.325108  "
      ]
     },
     "execution_count": 33,
     "metadata": {},
     "output_type": "execute_result"
    }
   ],
   "source": [
    "cltv_df[\"exp_average_value\"] = ggf.conditional_expected_average_profit(cltv_df['frequency'],cltv_df['monetary'])\n",
    "cltv_df.head()"
   ]
  },
  {
   "cell_type": "markdown",
   "metadata": {},
   "source": [
    "### Adım3: 6 aylık CLTV hesaplayınız ve cltv ismiyle dataframe'e ekleyiniz.\n",
    "* • Cltv değeri en yüksek 20 kişiyi gözlemleyiniz."
   ]
  },
  {
   "cell_type": "code",
   "execution_count": 34,
   "metadata": {},
   "outputs": [],
   "source": [
    "cltv_df[\"cltv\"] = ggf.customer_lifetime_value (bgf,cltv_df['frequency'],cltv_df['recency'],cltv_df['T'],\n",
    "                                                cltv_df['monetary'],\n",
    "                                                time=6,  # 6 aylık\n",
    "                                                freq=\"W\",  # T'nin frekans bilgisi.\n",
    "                                                discount_rate=0.01) "
   ]
  },
  {
   "cell_type": "code",
   "execution_count": 35,
   "metadata": {},
   "outputs": [
    {
     "data": {
      "text/html": [
       "<div>\n",
       "<style scoped>\n",
       "    .dataframe tbody tr th:only-of-type {\n",
       "        vertical-align: middle;\n",
       "    }\n",
       "\n",
       "    .dataframe tbody tr th {\n",
       "        vertical-align: top;\n",
       "    }\n",
       "\n",
       "    .dataframe thead th {\n",
       "        text-align: right;\n",
       "    }\n",
       "</style>\n",
       "<table border=\"1\" class=\"dataframe\">\n",
       "  <thead>\n",
       "    <tr style=\"text-align: right;\">\n",
       "      <th></th>\n",
       "      <th>customer_id</th>\n",
       "      <th>recency</th>\n",
       "      <th>T</th>\n",
       "      <th>frequency</th>\n",
       "      <th>monetary</th>\n",
       "      <th>exp_sales_3_month</th>\n",
       "      <th>exp_sales_6_month</th>\n",
       "      <th>exp_average_value</th>\n",
       "      <th>cltv</th>\n",
       "    </tr>\n",
       "  </thead>\n",
       "  <tbody>\n",
       "    <tr>\n",
       "      <th>9055</th>\n",
       "      <td>47a642fe-975b-11eb-8c2a-000d3a38a36f</td>\n",
       "      <td>2.857143</td>\n",
       "      <td>7.857143</td>\n",
       "      <td>4.0</td>\n",
       "      <td>1401.800000</td>\n",
       "      <td>1.094385</td>\n",
       "      <td>2.188769</td>\n",
       "      <td>1449.060468</td>\n",
       "      <td>3327.777040</td>\n",
       "    </tr>\n",
       "    <tr>\n",
       "      <th>13880</th>\n",
       "      <td>7137a5c0-7aad-11ea-8f20-000d3a38a36f</td>\n",
       "      <td>6.142857</td>\n",
       "      <td>13.142857</td>\n",
       "      <td>11.0</td>\n",
       "      <td>758.085455</td>\n",
       "      <td>1.970108</td>\n",
       "      <td>3.940216</td>\n",
       "      <td>767.360602</td>\n",
       "      <td>3172.394390</td>\n",
       "    </tr>\n",
       "    <tr>\n",
       "      <th>17323</th>\n",
       "      <td>f59053e2-a503-11e9-a2fc-000d3a38a36f</td>\n",
       "      <td>51.714286</td>\n",
       "      <td>101.000000</td>\n",
       "      <td>7.0</td>\n",
       "      <td>1106.467143</td>\n",
       "      <td>0.722238</td>\n",
       "      <td>1.444476</td>\n",
       "      <td>1127.611525</td>\n",
       "      <td>1708.982063</td>\n",
       "    </tr>\n",
       "    <tr>\n",
       "      <th>12438</th>\n",
       "      <td>625f40a2-5bd2-11ea-98b0-000d3a38a36f</td>\n",
       "      <td>74.285714</td>\n",
       "      <td>74.571429</td>\n",
       "      <td>16.0</td>\n",
       "      <td>501.873750</td>\n",
       "      <td>1.565309</td>\n",
       "      <td>3.130618</td>\n",
       "      <td>506.166665</td>\n",
       "      <td>1662.613492</td>\n",
       "    </tr>\n",
       "    <tr>\n",
       "      <th>7330</th>\n",
       "      <td>a4d534a2-5b1b-11eb-8dbd-000d3a38a36f</td>\n",
       "      <td>62.714286</td>\n",
       "      <td>67.285714</td>\n",
       "      <td>52.0</td>\n",
       "      <td>166.224615</td>\n",
       "      <td>4.656138</td>\n",
       "      <td>9.312276</td>\n",
       "      <td>166.712253</td>\n",
       "      <td>1628.887381</td>\n",
       "    </tr>\n",
       "  </tbody>\n",
       "</table>\n",
       "</div>"
      ],
      "text/plain": [
       "                                customer_id    recency           T  frequency  \\\n",
       "9055   47a642fe-975b-11eb-8c2a-000d3a38a36f   2.857143    7.857143        4.0   \n",
       "13880  7137a5c0-7aad-11ea-8f20-000d3a38a36f   6.142857   13.142857       11.0   \n",
       "17323  f59053e2-a503-11e9-a2fc-000d3a38a36f  51.714286  101.000000        7.0   \n",
       "12438  625f40a2-5bd2-11ea-98b0-000d3a38a36f  74.285714   74.571429       16.0   \n",
       "7330   a4d534a2-5b1b-11eb-8dbd-000d3a38a36f  62.714286   67.285714       52.0   \n",
       "\n",
       "          monetary  exp_sales_3_month  exp_sales_6_month  exp_average_value  \\\n",
       "9055   1401.800000           1.094385           2.188769        1449.060468   \n",
       "13880   758.085455           1.970108           3.940216         767.360602   \n",
       "17323  1106.467143           0.722238           1.444476        1127.611525   \n",
       "12438   501.873750           1.565309           3.130618         506.166665   \n",
       "7330    166.224615           4.656138           9.312276         166.712253   \n",
       "\n",
       "              cltv  \n",
       "9055   3327.777040  \n",
       "13880  3172.394390  \n",
       "17323  1708.982063  \n",
       "12438  1662.613492  \n",
       "7330   1628.887381  "
      ]
     },
     "execution_count": 35,
     "metadata": {},
     "output_type": "execute_result"
    }
   ],
   "source": [
    "cltv_df.sort_values(by=\"cltv\",ascending=False).head()"
   ]
  },
  {
   "cell_type": "markdown",
   "metadata": {},
   "source": [
    "# Görev 4: CLTV Değerine Göre Segmentlerin Oluşturulması"
   ]
  },
  {
   "cell_type": "markdown",
   "metadata": {},
   "source": [
    "### Adım1: 6 aylık CLTV'ye göre tüm müşterilerinizi 4 gruba (segmente) ayırınız ve grup isimlerini veri setine ekleyiniz."
   ]
  },
  {
   "cell_type": "code",
   "execution_count": 37,
   "metadata": {},
   "outputs": [],
   "source": [
    "cltv_df[\"segment\"] = pd.qcut(cltv_df[\"cltv\"], 4, labels=[\"D\", \"C\", \"B\", \"A\"])"
   ]
  },
  {
   "cell_type": "code",
   "execution_count": 38,
   "metadata": {},
   "outputs": [],
   "source": [
    "cltv_df_6month=cltv_df[[\"exp_sales_6_month\",\"exp_average_value\",\"cltv\",\"segment\"]]"
   ]
  },
  {
   "cell_type": "code",
   "execution_count": 39,
   "metadata": {},
   "outputs": [
    {
     "data": {
      "text/html": [
       "<div>\n",
       "<style scoped>\n",
       "    .dataframe tbody tr th:only-of-type {\n",
       "        vertical-align: middle;\n",
       "    }\n",
       "\n",
       "    .dataframe tbody tr th {\n",
       "        vertical-align: top;\n",
       "    }\n",
       "\n",
       "    .dataframe thead tr th {\n",
       "        text-align: left;\n",
       "    }\n",
       "\n",
       "    .dataframe thead tr:last-of-type th {\n",
       "        text-align: right;\n",
       "    }\n",
       "</style>\n",
       "<table border=\"1\" class=\"dataframe\">\n",
       "  <thead>\n",
       "    <tr>\n",
       "      <th></th>\n",
       "      <th colspan=\"3\" halign=\"left\">exp_sales_6_month</th>\n",
       "      <th colspan=\"3\" halign=\"left\">exp_average_value</th>\n",
       "      <th colspan=\"3\" halign=\"left\">cltv</th>\n",
       "    </tr>\n",
       "    <tr>\n",
       "      <th></th>\n",
       "      <th>min</th>\n",
       "      <th>max</th>\n",
       "      <th>mean</th>\n",
       "      <th>min</th>\n",
       "      <th>max</th>\n",
       "      <th>mean</th>\n",
       "      <th>min</th>\n",
       "      <th>max</th>\n",
       "      <th>mean</th>\n",
       "    </tr>\n",
       "    <tr>\n",
       "      <th>segment</th>\n",
       "      <th></th>\n",
       "      <th></th>\n",
       "      <th></th>\n",
       "      <th></th>\n",
       "      <th></th>\n",
       "      <th></th>\n",
       "      <th></th>\n",
       "      <th></th>\n",
       "      <th></th>\n",
       "    </tr>\n",
       "  </thead>\n",
       "  <tbody>\n",
       "    <tr>\n",
       "      <th>D</th>\n",
       "      <td>0.298521</td>\n",
       "      <td>2.099535</td>\n",
       "      <td>0.817792</td>\n",
       "      <td>25.082983</td>\n",
       "      <td>306.590949</td>\n",
       "      <td>98.691085</td>\n",
       "      <td>12.108003</td>\n",
       "      <td>112.245389</td>\n",
       "      <td>80.340476</td>\n",
       "    </tr>\n",
       "    <tr>\n",
       "      <th>C</th>\n",
       "      <td>0.324040</td>\n",
       "      <td>3.136897</td>\n",
       "      <td>1.050896</td>\n",
       "      <td>34.788769</td>\n",
       "      <td>368.390111</td>\n",
       "      <td>132.250592</td>\n",
       "      <td>112.248409</td>\n",
       "      <td>165.468859</td>\n",
       "      <td>138.311508</td>\n",
       "    </tr>\n",
       "    <tr>\n",
       "      <th>B</th>\n",
       "      <td>0.354462</td>\n",
       "      <td>3.564337</td>\n",
       "      <td>1.202210</td>\n",
       "      <td>50.597142</td>\n",
       "      <td>578.975123</td>\n",
       "      <td>168.000578</td>\n",
       "      <td>165.469210</td>\n",
       "      <td>240.057865</td>\n",
       "      <td>199.532849</td>\n",
       "    </tr>\n",
       "    <tr>\n",
       "      <th>A</th>\n",
       "      <td>0.423580</td>\n",
       "      <td>9.312276</td>\n",
       "      <td>1.546054</td>\n",
       "      <td>64.983099</td>\n",
       "      <td>1449.060468</td>\n",
       "      <td>238.023995</td>\n",
       "      <td>240.085432</td>\n",
       "      <td>3327.777040</td>\n",
       "      <td>362.315501</td>\n",
       "    </tr>\n",
       "  </tbody>\n",
       "</table>\n",
       "</div>"
      ],
      "text/plain": [
       "        exp_sales_6_month                     exp_average_value               \\\n",
       "                      min       max      mean               min          max   \n",
       "segment                                                                        \n",
       "D                0.298521  2.099535  0.817792         25.082983   306.590949   \n",
       "C                0.324040  3.136897  1.050896         34.788769   368.390111   \n",
       "B                0.354462  3.564337  1.202210         50.597142   578.975123   \n",
       "A                0.423580  9.312276  1.546054         64.983099  1449.060468   \n",
       "\n",
       "                           cltv                           \n",
       "               mean         min          max        mean  \n",
       "segment                                                   \n",
       "D         98.691085   12.108003   112.245389   80.340476  \n",
       "C        132.250592  112.248409   165.468859  138.311508  \n",
       "B        168.000578  165.469210   240.057865  199.532849  \n",
       "A        238.023995  240.085432  3327.777040  362.315501  "
      ]
     },
     "execution_count": 39,
     "metadata": {},
     "output_type": "execute_result"
    }
   ],
   "source": [
    "cltv_df_6month.groupby(\"segment\").agg([\"min\",\"max\",\"mean\"])"
   ]
  },
  {
   "cell_type": "code",
   "execution_count": null,
   "metadata": {},
   "outputs": [],
   "source": [
    "cltv_df_6month.to_csv(\"cltv_df_6month.csv\")"
   ]
  },
  {
   "cell_type": "code",
   "execution_count": null,
   "metadata": {},
   "outputs": [],
   "source": []
  }
 ],
 "metadata": {
  "kernelspec": {
   "display_name": "Python 3.10.8 64-bit",
   "language": "python",
   "name": "python3"
  },
  "language_info": {
   "codemirror_mode": {
    "name": "ipython",
    "version": 3
   },
   "file_extension": ".py",
   "mimetype": "text/x-python",
   "name": "python",
   "nbconvert_exporter": "python",
   "pygments_lexer": "ipython3",
   "version": "3.10.8"
  },
  "orig_nbformat": 4,
  "vscode": {
   "interpreter": {
    "hash": "8c3d4d9970fc5c09c50d9318a9c7fbf4d0159e4b28833276f5678ee22bded273"
   }
  }
 },
 "nbformat": 4,
 "nbformat_minor": 2
}
